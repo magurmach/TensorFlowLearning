{
  "nbformat": 4,
  "nbformat_minor": 0,
  "metadata": {
    "colab": {
      "provenance": [],
      "authorship_tag": "ABX9TyMy13GTTyGaM9xhv9eAXX76",
      "include_colab_link": true
    },
    "kernelspec": {
      "name": "python3",
      "display_name": "Python 3"
    },
    "language_info": {
      "name": "python"
    }
  },
  "cells": [
    {
      "cell_type": "markdown",
      "metadata": {
        "id": "view-in-github",
        "colab_type": "text"
      },
      "source": [
        "<a href=\"https://colab.research.google.com/github/magurmach/TensorFlowLearning/blob/main/basics/Tensorflow_Into_With_Keras.ipynb\" target=\"_parent\"><img src=\"https://colab.research.google.com/assets/colab-badge.svg\" alt=\"Open In Colab\"/></a>"
      ]
    },
    {
      "cell_type": "code",
      "execution_count": null,
      "metadata": {
        "id": "WSLlnmjtPgK_"
      },
      "outputs": [],
      "source": [
        "import tensorflow as tf\n",
        "import numpy as np\n",
        "from tensorflow import keras\n",
        "\n",
        "print(tf.__version__)"
      ]
    },
    {
      "cell_type": "markdown",
      "source": [
        "# Part 1\n",
        "\n",
        "Experiment with a simple linear predictor predicting a closed form equation.\n",
        "\n",
        "Equation: `y = 2*x - 1`."
      ],
      "metadata": {
        "id": "7skSmerVP5Go"
      }
    },
    {
      "cell_type": "markdown",
      "source": [
        "### Data\n",
        "\n",
        "Capture the data in numpy arrays so that it can be used for training the model."
      ],
      "metadata": {
        "id": "5duNSFqw2Cqu"
      }
    },
    {
      "cell_type": "code",
      "source": [
        "xs = np.array([-1.0, 0.0, 1.0, 2.0, 3.0, 4.0], dtype=float)\n",
        "ys = np.array([-3.0, -1.0, 1.0, 3.0, 5.0, 7.0], dtype=float)"
      ],
      "metadata": {
        "id": "_IR_T_jc2AJk"
      },
      "execution_count": 3,
      "outputs": []
    },
    {
      "cell_type": "markdown",
      "source": [
        "### Simple model and training\n",
        "\n",
        "Put together a simple model and train."
      ],
      "metadata": {
        "id": "7-T7TTYR2ib4"
      }
    },
    {
      "cell_type": "code",
      "source": [
        "# Simple 1 perceptron NN.\n",
        "model = tf.keras.Sequential([keras.layers.Dense(units=1, input_shape=[1])])\n",
        "\n",
        "# Using stochastic gradient descent for learning with MSE as loss function.\n",
        "model.compile(optimizer='sgd', loss='mean_squared_error')\n",
        "\n",
        "# Dataset is small. Batching not necessary. Training for 500 cycles to allow\n",
        "# proper fitting.\n",
        "model.fit(xs, ys, epochs=500)\n"
      ],
      "metadata": {
        "id": "LfW2Z9an1fsV"
      },
      "execution_count": null,
      "outputs": []
    },
    {
      "cell_type": "markdown",
      "source": [
        "### Test\n",
        "\n",
        "Test with simple input `x = 10` which should result in `y = 19`.\n",
        "\n",
        "NOTE: Result in unlikely to be 19. Rather, it will be close to 19."
      ],
      "metadata": {
        "id": "53QjgPw73TxN"
      }
    },
    {
      "cell_type": "code",
      "source": [
        "print(model.predict([10.0]))"
      ],
      "metadata": {
        "id": "1HamHyTH3fS4"
      },
      "execution_count": null,
      "outputs": []
    }
  ]
}