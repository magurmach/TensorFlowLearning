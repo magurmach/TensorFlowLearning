{
  "nbformat": 4,
  "nbformat_minor": 0,
  "metadata": {
    "colab": {
      "provenance": [],
      "authorship_tag": "ABX9TyMuhAjCrnIU+u5OtRn2E7Mg",
      "include_colab_link": true
    },
    "kernelspec": {
      "name": "python3",
      "display_name": "Python 3"
    },
    "language_info": {
      "name": "python"
    }
  },
  "cells": [
    {
      "cell_type": "markdown",
      "metadata": {
        "id": "view-in-github",
        "colab_type": "text"
      },
      "source": [
        "<a href=\"https://colab.research.google.com/github/magurmach/TensorFlowLearning/blob/main/basics/Tensorflow_Into_With_Keras.ipynb\" target=\"_parent\"><img src=\"https://colab.research.google.com/assets/colab-badge.svg\" alt=\"Open In Colab\"/></a>"
      ]
    },
    {
      "cell_type": "code",
      "execution_count": null,
      "metadata": {
        "id": "WSLlnmjtPgK_"
      },
      "outputs": [],
      "source": [
        "import tensorflow as tf\n",
        "import matplotlib.pyplot as plt\n",
        "import numpy as np\n",
        "from tensorflow import keras\n",
        "\n",
        "print(tf.__version__)"
      ]
    },
    {
      "cell_type": "markdown",
      "source": [
        "# Part 1\n",
        "\n",
        "Experiment with a simple linear predictor predicting a closed form equation.\n",
        "\n",
        "Equation: `y = 2*x - 1`."
      ],
      "metadata": {
        "id": "7skSmerVP5Go"
      }
    },
    {
      "cell_type": "markdown",
      "source": [
        "### Data\n",
        "\n",
        "Capture the data in numpy arrays so that it can be used for training the model."
      ],
      "metadata": {
        "id": "5duNSFqw2Cqu"
      }
    },
    {
      "cell_type": "code",
      "source": [
        "xs = np.array([-1.0, 0.0, 1.0, 2.0, 3.0, 4.0], dtype=float)\n",
        "ys = np.array([-3.0, -1.0, 1.0, 3.0, 5.0, 7.0], dtype=float)"
      ],
      "metadata": {
        "id": "_IR_T_jc2AJk"
      },
      "execution_count": null,
      "outputs": []
    },
    {
      "cell_type": "markdown",
      "source": [
        "### Simple model and training\n",
        "\n",
        "Put together a simple model and train."
      ],
      "metadata": {
        "id": "7-T7TTYR2ib4"
      }
    },
    {
      "cell_type": "code",
      "source": [
        "# Simple 1 perceptron NN.\n",
        "model = tf.keras.Sequential([keras.layers.Dense(units=1, input_shape=[1])])\n",
        "\n",
        "# Using stochastic gradient descent for learning with MSE as loss function.\n",
        "model.compile(optimizer='sgd', loss='mean_squared_error')\n",
        "\n",
        "# Dataset is small. Batching not necessary. Training for 500 cycles to allow\n",
        "# proper fitting.\n",
        "model.fit(xs, ys, epochs=500)\n"
      ],
      "metadata": {
        "id": "LfW2Z9an1fsV"
      },
      "execution_count": null,
      "outputs": []
    },
    {
      "cell_type": "markdown",
      "source": [
        "### Test\n",
        "\n",
        "Test with simple input `x = 10` which should result in `y = 19`.\n",
        "\n",
        "NOTE: Result in unlikely to be 19. Rather, it will be close to 19."
      ],
      "metadata": {
        "id": "53QjgPw73TxN"
      }
    },
    {
      "cell_type": "code",
      "source": [
        "print(model.predict([10.0]))"
      ],
      "metadata": {
        "id": "1HamHyTH3fS4"
      },
      "execution_count": null,
      "outputs": []
    },
    {
      "cell_type": "markdown",
      "source": [
        "# Part 2\n",
        "\n",
        "Use [Fashion MNIST dataset](https://github.com/zalandoresearch/fashion-mnist) to implement a simple catagorical classifier."
      ],
      "metadata": {
        "id": "SXYE7--w7oyH"
      }
    },
    {
      "cell_type": "markdown",
      "source": [
        "## Data\n",
        "\n",
        "Dataset is available through keras. Category labels: 0-9."
      ],
      "metadata": {
        "id": "s7G0GB1s9NVL"
      }
    },
    {
      "cell_type": "code",
      "source": [
        "fmnist = tf.keras.datasets.fashion_mnist\n",
        "(training_images, training_labels), (test_images, test_labels) = fmnist.load_data()\n"
      ],
      "metadata": {
        "id": "x3Mle4Dr9mLh"
      },
      "execution_count": null,
      "outputs": []
    },
    {
      "cell_type": "markdown",
      "source": [
        "#### Investigate data\n"
      ],
      "metadata": {
        "id": "sjf1D05Q9wLw"
      }
    },
    {
      "cell_type": "code",
      "source": [
        "index = 0\n",
        "\n",
        "np.set_printoptions(linewidth=320)\n",
        "\n",
        "print(f'LABEL: {training_labels[index]}')\n",
        "print(f'\\nIMAGE PIXEL ARRAY:\\n {training_images[index]}')\n",
        "\n",
        "plt.imshow(training_images[index])"
      ],
      "metadata": {
        "id": "dXIQybin-ohj"
      },
      "execution_count": null,
      "outputs": []
    },
    {
      "cell_type": "markdown",
      "source": [
        "#### Normalize value"
      ],
      "metadata": {
        "id": "zotsoz7z_-Vs"
      }
    },
    {
      "cell_type": "code",
      "source": [
        "training_images = training_images / 255.0\n",
        "test_images = test_images / 255.0"
      ],
      "metadata": {
        "id": "yvjeO0bxAj5d"
      },
      "execution_count": 4,
      "outputs": []
    },
    {
      "cell_type": "markdown",
      "source": [
        "#### Model and training\n",
        "\n",
        "Put together a NN."
      ],
      "metadata": {
        "id": "itAhUOKJAwpP"
      }
    },
    {
      "cell_type": "code",
      "source": [
        "model = tf.keras.models.Sequential([tf.keras.layers.Flatten(),\n",
        "                                    tf.keras.layers.Dense(128, activation=tf.nn.relu),\n",
        "                                    tf.keras.layers.Dense(10, activation=tf.nn.softmax)])\n",
        "\n",
        "inputs = np.array([[1.0, 3.0, 4.0, 2.0]])\n",
        "inputs = tf.convert_to_tensor(inputs)\n",
        "print(f'input to softmax function: {inputs.numpy()}')\n",
        "\n",
        "outputs = tf.keras.activations.softmax(inputs)\n",
        "print(f'output of softmax function: {outputs.numpy()}')\n",
        "\n",
        "sum = tf.reduce_sum(outputs)\n",
        "print(f'sum of outputs: {sum}')\n",
        "\n",
        "prediction = np.argmax(outputs)\n",
        "print(f'class with highest pribability: {prediction}')"
      ],
      "metadata": {
        "id": "Ym0RNZdYAvOk"
      },
      "execution_count": null,
      "outputs": []
    },
    {
      "cell_type": "markdown",
      "source": [
        "Model training."
      ],
      "metadata": {
        "id": "s_VkJfyzERhy"
      }
    },
    {
      "cell_type": "code",
      "source": [
        "model.compile(optimizer=tf.optimizers.Adam(),\n",
        "              loss = 'sparse_categorical_crossentropy',\n",
        "              metrics=['accuracy'])\n",
        "model.fit(training_images, training_labels, epochs=5)"
      ],
      "metadata": {
        "id": "f3WJ5m0bEUjT"
      },
      "execution_count": null,
      "outputs": []
    },
    {
      "cell_type": "markdown",
      "source": [
        "#### Model evaluation"
      ],
      "metadata": {
        "id": "kK4_UAl4FHJu"
      }
    },
    {
      "cell_type": "code",
      "source": [
        "model.evaluate(test_images, test_labels)"
      ],
      "metadata": {
        "id": "Ud-93Pn9FbMU"
      },
      "execution_count": null,
      "outputs": []
    }
  ]
}