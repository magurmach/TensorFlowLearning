{
  "nbformat": 4,
  "nbformat_minor": 0,
  "metadata": {
    "colab": {
      "provenance": [],
      "machine_shape": "hm",
      "gpuType": "V100",
      "authorship_tag": "ABX9TyOCqcVbP+unY3uZaECPCvDS",
      "include_colab_link": true
    },
    "kernelspec": {
      "name": "python3",
      "display_name": "Python 3"
    },
    "language_info": {
      "name": "python"
    },
    "accelerator": "GPU"
  },
  "cells": [
    {
      "cell_type": "markdown",
      "metadata": {
        "id": "view-in-github",
        "colab_type": "text"
      },
      "source": [
        "<a href=\"https://colab.research.google.com/github/magurmach/TensorFlowLearning/blob/main/benchmarking/colab/CNN_on_fmnist_datase_Keras_Performance_evaluation.ipynb\" target=\"_parent\"><img src=\"https://colab.research.google.com/assets/colab-badge.svg\" alt=\"Open In Colab\"/></a>"
      ]
    },
    {
      "cell_type": "markdown",
      "source": [
        "# Simple CNN on fmnist\n",
        "\n",
        "Use a simple Keras based CNN on [fmnist](https://github.com/zalandoresearch/fashion-mnist)."
      ],
      "metadata": {
        "id": "yOB1x7_AQLqf"
      }
    },
    {
      "cell_type": "code",
      "source": [
        "import tensorflow as tf\n",
        "import matplotlib.pyplot as plt"
      ],
      "metadata": {
        "id": "jp-D0r2QQSMi"
      },
      "execution_count": 1,
      "outputs": []
    },
    {
      "cell_type": "markdown",
      "source": [
        "## Data\n",
        "\n",
        "28x28 greyscaled images. 10 classes with label 0 to 9."
      ],
      "metadata": {
        "id": "wwQA7OxNQTps"
      }
    },
    {
      "cell_type": "code",
      "source": [
        "fmnist = tf.keras.datasets.fashion_mnist\n",
        "(training_images, training_labels), (test_images, test_labels) = fmnist.load_data()\n",
        "\n",
        "# Normalize the pixel values.\n",
        "training_images = training_images / 255.0\n",
        "test_images = test_images / 255.0"
      ],
      "metadata": {
        "id": "bwEVcTq_QTDJ"
      },
      "execution_count": null,
      "outputs": []
    },
    {
      "cell_type": "markdown",
      "source": [
        "## Model Training\n",
        "\n",
        "Simple 3x3 CNN kernels with 2x2 maxpooling.\n",
        "\n"
      ],
      "metadata": {
        "id": "9OM5Nz7mQghz"
      }
    },
    {
      "cell_type": "code",
      "source": [
        "def evaluate_model(kernel_count, epochs, batch_size=None):\n",
        "  model = tf.keras.models.Sequential([\n",
        "      # Convolutions and max pooling.\n",
        "      tf.keras.layers.Conv2D(kernel_count, (3, 3), activation='relu', input_shape=(28, 28, 1)),\n",
        "      tf.keras.layers.MaxPooling2D(2, 2),\n",
        "      tf.keras.layers.Conv2D(kernel_count, (3, 3), activation='relu'),\n",
        "      tf.keras.layers.MaxPooling2D(2, 2),\n",
        "\n",
        "      # Regular layers\n",
        "      tf.keras.layers.Flatten(),\n",
        "      tf.keras.layers.Dense(128, activation='relu'),\n",
        "      tf.keras.layers.Dense(10, activation='softmax')\n",
        "  ])\n",
        "\n",
        "  # Print model summary.\n",
        "  model.summary()\n",
        "\n",
        "  model.compile(optimizer='adam', loss='sparse_categorical_crossentropy', metrics=['accuracy'])\n",
        "\n",
        "  # Train the model.\n",
        "  print('\\nMODEL TRAINING:')\n",
        "  model.fit(training_images, training_labels, batch_size=batch_size, epochs=epochs)\n",
        "\n",
        "  print('\\nMODEL EVALUTION:')\n",
        "  test_loss = model.evaluate(test_images, test_labels)"
      ],
      "metadata": {
        "id": "0eL8LLddVJlm"
      },
      "execution_count": 3,
      "outputs": []
    },
    {
      "cell_type": "markdown",
      "source": [
        "### Model Setup 1\n",
        "\n",
        "The Baseline.\n",
        "\n",
        "Kernerls: 32, Epochs: 10, Batch size: default (32)."
      ],
      "metadata": {
        "id": "Pc8uUGdORF0K"
      }
    },
    {
      "cell_type": "code",
      "source": [
        "evaluate_model(32, 10)"
      ],
      "metadata": {
        "id": "8_D8a5ICRFS_"
      },
      "execution_count": null,
      "outputs": []
    },
    {
      "cell_type": "markdown",
      "source": [
        "### Model Setup 2\n",
        "\n",
        "Impact of batch size increase.\n",
        "\n",
        "Kernerls: 32, Epochs: 10, Batch size: default (32).\n",
        "\n"
      ],
      "metadata": {
        "id": "g9Fj5X5oUwqp"
      }
    },
    {
      "cell_type": "code",
      "source": [
        "evaluate_model(32, 10, 128)"
      ],
      "metadata": {
        "id": "G37MNV-3UvzG"
      },
      "execution_count": null,
      "outputs": []
    }
  ]
}